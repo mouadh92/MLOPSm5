{
 "cells": [
  {
   "cell_type": "markdown",
   "metadata": {},
   "source": [
    "# Training Neural Networks\n",
    "\n",
    "The network we built in the previous part isn't so smart, it doesn't know anything about our handwritten digits. Neural networks with non-linear activations work like universal function approximators. There is some function that maps your input to the output. For example, images of handwritten digits to class probabilities. The power of neural networks is that we can train them to approximate this function, and basically any function given enough data and compute time.\n",
    "\n",
    "<img src=\"assets/function_approx.png\" width=500px>\n",
    "\n",
    "At first the network is naive, it doesn't know the function mapping the inputs to the outputs. We train the network by showing it examples of real data, then adjusting the network parameters such that it approximates this function.\n",
    "\n",
    "To find these parameters, we need to know how poorly the network is predicting the real outputs. For this we calculate a **loss function** (also called the cost), a measure of our prediction error. For example, the mean squared loss is often used in regression and binary classification problems\n",
    "\n",
    "$$\n",
    "\\large \\ell = \\frac{1}{2n}\\sum_i^n{\\left(y_i - \\hat{y}_i\\right)^2}\n",
    "$$\n",
    "\n",
    "where $n$ is the number of training examples, $y_i$ are the true labels, and $\\hat{y}_i$ are the predicted labels.\n",
    "\n",
    "By minimizing this loss with respect to the network parameters, we can find configurations where the loss is at a minimum and the network is able to predict the correct labels with high accuracy. We find this minimum using a process called **gradient descent**. The gradient is the slope of the loss function and points in the direction of fastest change. To get to the minimum in the least amount of time, we then want to follow the gradient (downwards). You can think of this like descending a mountain by following the steepest slope to the base.\n",
    "\n",
    "<img src='assets/gradient_descent.png' width=350px>"
   ]
  },
  {
   "cell_type": "markdown",
   "metadata": {},
   "source": [
    "## Backpropagation\n",
    "\n",
    "For single layer networks, gradient descent is straightforward to implement. However, it's more complicated for deeper, multilayer neural networks like the one we've built. Complicated enough that it took about 30 years before researchers figured out how to train multilayer networks.\n",
    "\n",
    "Training multilayer networks is done through **backpropagation** which is really just an application of the chain rule from calculus. It's easiest to understand if we convert a two layer network into a graph representation.\n",
    "\n",
    "<img src='assets/backprop_diagram.png' width=550px>\n",
    "\n",
    "In the forward pass through the network, our data and operations go from bottom to top here. We pass the input $x$ through a linear transformation $L_1$ with weights $W_1$ and biases $b_1$. The output then goes through the sigmoid operation $S$ and another linear transformation $L_2$. Finally we calculate the loss $\\ell$. We use the loss as a measure of how bad the network's predictions are. The goal then is to adjust the weights and biases to minimize the loss.\n",
    "\n",
    "To train the weights with gradient descent, we propagate the gradient of the loss backwards through the network. Each operation has some gradient between the inputs and outputs. As we send the gradients backwards, we multiply the incoming gradient with the gradient for the operation. Mathematically, this is really just calculating the gradient of the loss with respect to the weights using the chain rule.\n",
    "\n",
    "$$\n",
    "\\large \\frac{\\partial \\ell}{\\partial W_1} = \\frac{\\partial L_1}{\\partial W_1} \\frac{\\partial S}{\\partial L_1} \\frac{\\partial L_2}{\\partial S} \\frac{\\partial \\ell}{\\partial L_2}\n",
    "$$\n",
    "\n",
    "**Note:** I'm glossing over a few details here that require some knowledge of vector calculus, but they aren't necessary to understand what's going on.\n",
    "\n",
    "We update our weights using this gradient with some learning rate $\\alpha$. \n",
    "\n",
    "$$\n",
    "\\large W^\\prime_1 = W_1 - \\alpha \\frac{\\partial \\ell}{\\partial W_1}\n",
    "$$\n",
    "\n",
    "The learning rate $\\alpha$ is set such that the weight update steps are small enough that the iterative method settles in a minimum."
   ]
  },
  {
   "cell_type": "markdown",
   "metadata": {},
   "source": [
    "## Losses in PyTorch\n",
    "\n",
    "Let's start by seeing how we calculate the loss with PyTorch. Through the `nn` module, PyTorch provides losses such as the cross-entropy loss (`nn.CrossEntropyLoss`). You'll usually see the loss assigned to `criterion`. As noted in the last part, with a classification problem such as MNIST, we're using the softmax function to predict class probabilities. With a softmax output, you want to use cross-entropy as the loss. To actually calculate the loss, you first define the criterion then pass in the output of your network and the correct labels.\n",
    "\n",
    "Something really important to note here. Looking at [the documentation for `nn.CrossEntropyLoss`](https://pytorch.org/docs/stable/nn.html#torch.nn.CrossEntropyLoss),\n",
    "\n",
    "> This criterion combines `nn.LogSoftmax()` and `nn.NLLLoss()` in one single class.\n",
    ">\n",
    "> The input is expected to contain scores for each class.\n",
    "\n",
    "This means we need to pass in the raw output of our network into the loss, not the output of the softmax function. This raw output is usually called the *logits* or *scores*. We use the logits because softmax gives you probabilities which will often be very close to zero or one but floating-point numbers can't accurately represent values near zero or one ([read more here](https://docs.python.org/3/tutorial/floatingpoint.html)). It's usually best to avoid doing calculations with probabilities, typically we use log-probabilities."
   ]
  },
  {
   "cell_type": "code",
   "execution_count": 1,
   "metadata": {},
   "outputs": [],
   "source": [
    "import torch\n",
    "from torch import nn\n",
    "import torch.nn.functional as F\n",
    "from torchvision import datasets, transforms\n",
    "\n",
    "# Define a transform to normalize the data\n",
    "transform = transforms.Compose([transforms.ToTensor(),\n",
    "                                transforms.Normalize((0.5,), (0.5,)),\n",
    "                              ])\n",
    "# Download and load the training data\n",
    "trainset = datasets.MNIST('~/.pytorch/MNIST_data/', download=True, train=True, transform=transform)\n",
    "trainloader = torch.utils.data.DataLoader(trainset, batch_size=64, shuffle=True)"
   ]
  },
  {
   "cell_type": "markdown",
   "metadata": {},
   "source": [
    "### Note\n",
    "If you haven't seen `nn.Sequential` yet, please finish the end of the Part 2 notebook."
   ]
  },
  {
   "cell_type": "code",
   "execution_count": 2,
   "metadata": {},
   "outputs": [
    {
     "name": "stdout",
     "output_type": "stream",
     "text": [
      "tensor(2.3042, grad_fn=<NllLossBackward0>)\n"
     ]
    }
   ],
   "source": [
    "# Build a feed-forward network\n",
    "model = nn.Sequential(nn.Linear(784, 128),\n",
    "                      nn.ReLU(),\n",
    "                      nn.Linear(128, 64),\n",
    "                      nn.ReLU(),\n",
    "                      nn.Linear(64, 10))\n",
    "\n",
    "# Define the loss\n",
    "criterion = nn.CrossEntropyLoss()\n",
    "\n",
    "# Get our data\n",
    "dataiter = iter(trainloader)\n",
    "\n",
    "images, labels = next(dataiter)\n",
    "\n",
    "# Flatten images\n",
    "images = images.view(images.shape[0], -1)\n",
    "\n",
    "# Forward pass, get our logits\n",
    "logits = model(images)\n",
    "# Calculate the loss with the logits and the labels\n",
    "loss = criterion(logits, labels)\n",
    "\n",
    "print(loss)"
   ]
  },
  {
   "cell_type": "code",
   "execution_count": 3,
   "metadata": {},
   "outputs": [
    {
     "name": "stdout",
     "output_type": "stream",
     "text": [
      "tensor([[ 0.0829, -0.1103,  0.1222, -0.0511,  0.1679,  0.0333,  0.0065, -0.1443,\n",
      "          0.1336,  0.1059],\n",
      "        [ 0.1317, -0.1448,  0.0866,  0.0417,  0.2324, -0.0370,  0.0486, -0.1224,\n",
      "          0.0646,  0.1233],\n",
      "        [ 0.0102, -0.0331,  0.1473, -0.0130,  0.1331,  0.0275,  0.0475, -0.1386,\n",
      "          0.1361,  0.0293],\n",
      "        [ 0.0788, -0.0647,  0.0715,  0.0160,  0.1240,  0.0496,  0.0918, -0.1193,\n",
      "          0.0426,  0.0511],\n",
      "        [ 0.0585, -0.0657,  0.1141,  0.0374,  0.1052, -0.0387, -0.0012, -0.1483,\n",
      "          0.1222,  0.0873],\n",
      "        [ 0.1401, -0.1139,  0.0718,  0.0457,  0.1392,  0.0177,  0.1478, -0.0959,\n",
      "          0.0277,  0.0884],\n",
      "        [ 0.0875, -0.1367,  0.0628,  0.0198,  0.0510,  0.0724,  0.1149, -0.1548,\n",
      "          0.0003,  0.1640],\n",
      "        [ 0.0623, -0.1003,  0.0547, -0.0903, -0.0159,  0.0549,  0.1496, -0.2011,\n",
      "         -0.0532,  0.1505],\n",
      "        [ 0.0641, -0.1112,  0.0881, -0.0284,  0.0827,  0.0481,  0.0477, -0.2050,\n",
      "          0.0098,  0.0887],\n",
      "        [ 0.0444, -0.0493,  0.1431,  0.0016,  0.1758, -0.0277,  0.0583, -0.0991,\n",
      "          0.1067, -0.0221],\n",
      "        [ 0.0737, -0.1424,  0.1557,  0.0278,  0.0870,  0.0996,  0.0374, -0.0884,\n",
      "          0.1296,  0.0453],\n",
      "        [ 0.0696, -0.0969,  0.0618, -0.0718,  0.1300, -0.0222,  0.1329, -0.2492,\n",
      "         -0.0168,  0.0883],\n",
      "        [ 0.1200, -0.1541,  0.1193, -0.0100,  0.0874,  0.0272,  0.0908, -0.1568,\n",
      "          0.0292, -0.0272],\n",
      "        [ 0.0724, -0.1334,  0.0735, -0.0140,  0.0901, -0.0199,  0.0675, -0.1433,\n",
      "          0.0698,  0.0401],\n",
      "        [ 0.0101, -0.1651,  0.0831,  0.0250,  0.1101,  0.0066,  0.0144, -0.1587,\n",
      "          0.1007,  0.0687],\n",
      "        [ 0.1199, -0.1076,  0.0091,  0.0594,  0.1011,  0.0622,  0.0613, -0.1435,\n",
      "          0.0159,  0.1027],\n",
      "        [ 0.0547, -0.0743,  0.0466, -0.0367,  0.0241,  0.0922,  0.0835, -0.1624,\n",
      "         -0.0101,  0.0370],\n",
      "        [ 0.0683, -0.1229,  0.0081, -0.0146,  0.0656,  0.0675,  0.1068, -0.2004,\n",
      "         -0.0060,  0.1797],\n",
      "        [ 0.0855, -0.0801,  0.0797, -0.0004,  0.1252,  0.0476,  0.0524, -0.1660,\n",
      "          0.0339,  0.0819],\n",
      "        [-0.0069, -0.0895,  0.1661, -0.0506,  0.0708,  0.0784,  0.0876, -0.0900,\n",
      "          0.1097, -0.0321],\n",
      "        [-0.0418, -0.0297,  0.0977,  0.0034,  0.0690,  0.1540, -0.0117, -0.1601,\n",
      "          0.1075,  0.0136],\n",
      "        [ 0.0869, -0.0304,  0.1848, -0.0849,  0.0994, -0.0872,  0.1246, -0.1285,\n",
      "          0.1570,  0.0856],\n",
      "        [ 0.0716, -0.1003,  0.1437, -0.0351,  0.1487, -0.0684,  0.0695, -0.1116,\n",
      "          0.0763,  0.0351],\n",
      "        [ 0.0409, -0.0724,  0.0887, -0.0944,  0.1053,  0.0224,  0.1056, -0.1560,\n",
      "         -0.0095, -0.0478],\n",
      "        [ 0.0382, -0.0786,  0.0634,  0.0044,  0.1170,  0.0288,  0.0806, -0.1729,\n",
      "         -0.0284,  0.0751],\n",
      "        [ 0.0597, -0.0664,  0.0424,  0.0338,  0.0872,  0.0597,  0.0524, -0.1482,\n",
      "          0.0112,  0.0458],\n",
      "        [-0.0050, -0.1441,  0.0630,  0.0626,  0.1532,  0.0407,  0.0566, -0.1449,\n",
      "          0.1214,  0.1172],\n",
      "        [ 0.0627, -0.0882,  0.0227,  0.0257,  0.0726,  0.0635,  0.0189, -0.1564,\n",
      "          0.0652,  0.0108],\n",
      "        [ 0.0784, -0.1057,  0.0258,  0.0110, -0.0334,  0.0869,  0.0410, -0.2243,\n",
      "         -0.0035,  0.1947],\n",
      "        [ 0.0462, -0.1314,  0.0714, -0.0141,  0.0344,  0.1254,  0.1320, -0.1524,\n",
      "          0.0007,  0.0958],\n",
      "        [ 0.0780, -0.1770,  0.0575, -0.0306,  0.1254, -0.0245,  0.0848, -0.2059,\n",
      "          0.0060,  0.1433],\n",
      "        [ 0.0550, -0.1656,  0.0063,  0.0227,  0.0932,  0.0691,  0.1105, -0.2180,\n",
      "          0.0010,  0.2188],\n",
      "        [-0.0148, -0.1047,  0.1063, -0.0850,  0.0909,  0.0759,  0.0863, -0.1393,\n",
      "          0.1156,  0.0649],\n",
      "        [ 0.0137, -0.1597,  0.0676,  0.0007,  0.1458, -0.0713,  0.1032, -0.1429,\n",
      "          0.0825,  0.0989],\n",
      "        [ 0.0641, -0.1589,  0.0447, -0.0014,  0.1547, -0.0175,  0.1225, -0.1525,\n",
      "          0.0371,  0.0480],\n",
      "        [ 0.0850, -0.1478, -0.0098, -0.0628,  0.0449,  0.0183,  0.1126, -0.2546,\n",
      "         -0.0256,  0.1675],\n",
      "        [ 0.0641, -0.0617,  0.1306, -0.0480,  0.1487,  0.0299,  0.0250, -0.2168,\n",
      "          0.0398,  0.0346],\n",
      "        [ 0.0825, -0.1260,  0.0514,  0.0195,  0.1244,  0.0179,  0.0493, -0.1655,\n",
      "          0.0722,  0.0966],\n",
      "        [ 0.0020, -0.1049,  0.0574,  0.0251,  0.1314,  0.0061,  0.0379, -0.2185,\n",
      "          0.0621,  0.0528],\n",
      "        [ 0.1105, -0.1324,  0.0738, -0.0093,  0.1040,  0.0336,  0.1139, -0.0862,\n",
      "          0.0458,  0.0898],\n",
      "        [ 0.0730, -0.1607,  0.0765,  0.0540,  0.2353, -0.0495,  0.0553, -0.1162,\n",
      "          0.1027,  0.1154],\n",
      "        [ 0.0627, -0.0781,  0.0827, -0.0029,  0.1785, -0.0453,  0.0507, -0.0952,\n",
      "          0.0712, -0.0037],\n",
      "        [ 0.0668, -0.0936,  0.0553,  0.0088,  0.1559, -0.0738,  0.1153, -0.1108,\n",
      "          0.0894,  0.0248],\n",
      "        [ 0.0567, -0.1253,  0.0779, -0.0755,  0.1787, -0.0461,  0.0779, -0.1822,\n",
      "          0.0255,  0.1868],\n",
      "        [ 0.1334, -0.1005,  0.0845, -0.0712,  0.1134,  0.0128,  0.1195, -0.1470,\n",
      "          0.0428,  0.1130],\n",
      "        [ 0.0883, -0.1314,  0.0504,  0.0588,  0.1188,  0.0231,  0.0934, -0.1786,\n",
      "          0.0290,  0.0884],\n",
      "        [ 0.1238, -0.1103,  0.0484, -0.0025,  0.1502, -0.0147,  0.0491, -0.1600,\n",
      "          0.0653,  0.1088],\n",
      "        [ 0.1523, -0.0677,  0.0245,  0.0347,  0.1771, -0.0654,  0.0345, -0.1692,\n",
      "          0.0858,  0.1101],\n",
      "        [ 0.1050, -0.1636,  0.0491, -0.0200,  0.1327,  0.0406,  0.1156, -0.2251,\n",
      "         -0.0156,  0.1246],\n",
      "        [ 0.1006, -0.1060,  0.0457, -0.0947,  0.1210, -0.0305,  0.1285, -0.1945,\n",
      "         -0.0011,  0.0933],\n",
      "        [ 0.0045, -0.0773,  0.1092,  0.0253,  0.0579,  0.1783,  0.0220, -0.1403,\n",
      "          0.1137,  0.0106],\n",
      "        [ 0.0852, -0.0806,  0.0472, -0.0015,  0.0707,  0.0478,  0.1152, -0.1919,\n",
      "          0.0512,  0.1159],\n",
      "        [-0.0187, -0.1432,  0.0434, -0.0439,  0.0876,  0.0675,  0.0665, -0.2568,\n",
      "          0.0368,  0.0937],\n",
      "        [ 0.1313,  0.0159,  0.0645, -0.0397,  0.0557,  0.0586,  0.0970, -0.2120,\n",
      "          0.0401,  0.0699],\n",
      "        [ 0.1223, -0.0944,  0.0678, -0.0570,  0.0908,  0.0798,  0.0913, -0.1536,\n",
      "          0.0563,  0.0936],\n",
      "        [ 0.0925, -0.1454, -0.0434, -0.0227,  0.0333,  0.0774,  0.1570, -0.2178,\n",
      "         -0.0153,  0.2194],\n",
      "        [ 0.0539, -0.0798,  0.1152, -0.0255,  0.1460,  0.0093,  0.0882, -0.1300,\n",
      "          0.0098,  0.0173],\n",
      "        [ 0.1238, -0.0921,  0.0433,  0.0336,  0.1599, -0.0319,  0.0339, -0.1678,\n",
      "          0.0702,  0.0973],\n",
      "        [ 0.0498, -0.1270,  0.1095,  0.0098,  0.1390, -0.0158,  0.0385, -0.1414,\n",
      "          0.1094,  0.0924],\n",
      "        [ 0.0139, -0.1259,  0.0872, -0.0450,  0.0227,  0.0430,  0.0761, -0.1695,\n",
      "          0.0672,  0.0260],\n",
      "        [ 0.0619, -0.1451,  0.0535, -0.0111,  0.0762,  0.0259,  0.1140, -0.1505,\n",
      "          0.1052,  0.1938],\n",
      "        [ 0.1070, -0.0816,  0.0340,  0.0815,  0.1520,  0.0177,  0.0145, -0.1759,\n",
      "          0.0445,  0.1255],\n",
      "        [ 0.0178, -0.0736,  0.0558,  0.0303,  0.0929,  0.0103,  0.0033, -0.1908,\n",
      "          0.0382,  0.0576],\n",
      "        [ 0.1010, -0.1337,  0.0620, -0.0961,  0.1108, -0.1002,  0.1253, -0.2142,\n",
      "          0.0228,  0.1000]], grad_fn=<AddmmBackward0>)\n",
      "tensor([6, 1, 8, 7, 9, 9, 9, 7, 7, 2, 5, 6, 9, 9, 9, 5, 9, 0, 7, 3, 3, 6, 7, 4,\n",
      "        7, 1, 2, 1, 0, 5, 6, 3, 3, 8, 9, 5, 6, 8, 8, 9, 1, 5, 2, 6, 9, 4, 1, 6,\n",
      "        0, 4, 3, 3, 3, 0, 5, 0, 7, 6, 8, 9, 3, 0, 1, 4])\n",
      "tensor([[-1., -1., -1.,  ..., -1., -1., -1.],\n",
      "        [-1., -1., -1.,  ..., -1., -1., -1.],\n",
      "        [-1., -1., -1.,  ..., -1., -1., -1.],\n",
      "        ...,\n",
      "        [-1., -1., -1.,  ..., -1., -1., -1.],\n",
      "        [-1., -1., -1.,  ..., -1., -1., -1.],\n",
      "        [-1., -1., -1.,  ..., -1., -1., -1.]])\n"
     ]
    }
   ],
   "source": [
    "print(logits)\n",
    "print(labels)\n",
    "print(images)"
   ]
  },
  {
   "cell_type": "markdown",
   "metadata": {},
   "source": [
    "In my experience it's more convenient to build the model with a log-softmax output using `nn.LogSoftmax` or `F.log_softmax` ([documentation](https://pytorch.org/docs/stable/nn.html#torch.nn.LogSoftmax)). Then you can get the actual probabilities by taking the exponential `torch.exp(output)`. With a log-softmax output, you want to use the negative log likelihood loss, `nn.NLLLoss` ([documentation](https://pytorch.org/docs/stable/nn.html#torch.nn.NLLLoss)).\n",
    "\n",
    ">**Exercise:** Build a model that returns the log-softmax as the output and calculate the loss using the negative log likelihood loss. Note that for `nn.LogSoftmax` and `F.log_softmax` you'll need to set the `dim` keyword argument appropriately. `dim=0` calculates softmax across the rows, so each column sums to 1, while `dim=1` calculates across the columns so each row sums to 1. Think about what you want the output to be and choose `dim` appropriately."
   ]
  },
  {
   "cell_type": "code",
   "execution_count": 4,
   "metadata": {},
   "outputs": [
    {
     "name": "stdout",
     "output_type": "stream",
     "text": [
      "tensor(2.3171, grad_fn=<NllLossBackward0>)\n"
     ]
    }
   ],
   "source": [
    "# TODO: Build a feed-forward network\n",
    "model = nn.Sequential(nn.Linear(784, 128),\n",
    "                      nn.ReLU(),\n",
    "                      nn.Linear(128, 64),\n",
    "                      nn.ReLU(),\n",
    "                      nn.Linear(64, 10),\n",
    "                      nn.LogSoftmax(dim=1))\n",
    "\n",
    "# TODO: Define the loss\n",
    "criterion = nn.NLLLoss()\n",
    "\n",
    "\n",
    "### Run this to check your work\n",
    "# Get our data\n",
    "dataiter = iter(trainloader)\n",
    "\n",
    "images, labels = next(dataiter)\n",
    "\n",
    "# Flatten images\n",
    "images = images.view(images.shape[0], -1)\n",
    "\n",
    "# Forward pass, get our logits\n",
    "logits = model(images)\n",
    "# Calculate the loss with the logits and the labels\n",
    "loss = criterion(logits, labels)\n",
    "\n",
    "print(loss)"
   ]
  },
  {
   "cell_type": "markdown",
   "metadata": {},
   "source": [
    "## Autograd\n",
    "\n",
    "Now that we know how to calculate a loss, how do we use it to perform backpropagation? Torch provides a module, `autograd`, for automatically calculating the gradients of tensors. We can use it to calculate the gradients of all our parameters with respect to the loss. Autograd works by keeping track of operations performed on tensors, then going backwards through those operations, calculating gradients along the way. To make sure PyTorch keeps track of operations on a tensor and calculates the gradients, you need to set `requires_grad = True` on a tensor. You can do this at creation with the `requires_grad` keyword, or at any time with `x.requires_grad_(True)`.\n",
    "\n",
    "You can turn off gradients for a block of code with the `torch.no_grad()` content:\n",
    "```python\n",
    "x = torch.zeros(1, requires_grad=True)\n",
    ">>> with torch.no_grad():\n",
    "...     y = x * 2\n",
    ">>> y.requires_grad\n",
    "False\n",
    "```\n",
    "\n",
    "Also, you can turn on or off gradients altogether with `torch.set_grad_enabled(True|False)`.\n",
    "\n",
    "The gradients are computed with respect to some variable `z` with `z.backward()`. This does a backward pass through the operations that created `z`."
   ]
  },
  {
   "cell_type": "code",
   "execution_count": 5,
   "metadata": {},
   "outputs": [
    {
     "name": "stdout",
     "output_type": "stream",
     "text": [
      "tensor([[-1.0629,  0.1523],\n",
      "        [ 0.6607,  0.0423]], requires_grad=True)\n"
     ]
    }
   ],
   "source": [
    "x = torch.randn(2,2, requires_grad=True)\n",
    "print(x)"
   ]
  },
  {
   "cell_type": "code",
   "execution_count": 6,
   "metadata": {},
   "outputs": [
    {
     "name": "stdout",
     "output_type": "stream",
     "text": [
      "tensor([[1.1298, 0.0232],\n",
      "        [0.4365, 0.0018]], grad_fn=<PowBackward0>)\n"
     ]
    }
   ],
   "source": [
    "y = x**2\n",
    "print(y)"
   ]
  },
  {
   "cell_type": "markdown",
   "metadata": {},
   "source": [
    "Below we can see the operation that created `y`, a power operation `PowBackward0`."
   ]
  },
  {
   "cell_type": "code",
   "execution_count": 7,
   "metadata": {},
   "outputs": [
    {
     "name": "stdout",
     "output_type": "stream",
     "text": [
      "<PowBackward0 object at 0x7f16470fbfa0>\n"
     ]
    }
   ],
   "source": [
    "## grad_fn shows the function that generated this variable\n",
    "print(y.grad_fn)"
   ]
  },
  {
   "cell_type": "markdown",
   "metadata": {},
   "source": [
    "The autograd module keeps track of these operations and knows how to calculate the gradient for each one. In this way, it's able to calculate the gradients for a chain of operations, with respect to any one tensor. Let's reduce the tensor `y` to a scalar value, the mean."
   ]
  },
  {
   "cell_type": "code",
   "execution_count": 8,
   "metadata": {},
   "outputs": [
    {
     "name": "stdout",
     "output_type": "stream",
     "text": [
      "tensor(0.3978, grad_fn=<MeanBackward0>)\n"
     ]
    }
   ],
   "source": [
    "z = y.mean()\n",
    "print(z)"
   ]
  },
  {
   "cell_type": "markdown",
   "metadata": {},
   "source": [
    "You can check the gradients for `x` and `y` but they are empty currently."
   ]
  },
  {
   "cell_type": "code",
   "execution_count": 9,
   "metadata": {},
   "outputs": [
    {
     "name": "stdout",
     "output_type": "stream",
     "text": [
      "None\n"
     ]
    }
   ],
   "source": [
    "print(x.grad)"
   ]
  },
  {
   "cell_type": "markdown",
   "metadata": {},
   "source": [
    "To calculate the gradients, you need to run the `.backward` method on a Variable, `z` for example. This will calculate the gradient for `z` with respect to `x`\n",
    "\n",
    "$$\n",
    "\\frac{\\partial z}{\\partial x} = \\frac{\\partial}{\\partial x}\\left[\\frac{1}{n}\\sum_i^n x_i^2\\right] = \\frac{x}{2}\n",
    "$$"
   ]
  },
  {
   "cell_type": "code",
   "execution_count": 10,
   "metadata": {},
   "outputs": [
    {
     "name": "stdout",
     "output_type": "stream",
     "text": [
      "tensor([[-0.5315,  0.0761],\n",
      "        [ 0.3303,  0.0211]])\n",
      "tensor([[-0.5315,  0.0761],\n",
      "        [ 0.3303,  0.0211]], grad_fn=<DivBackward0>)\n"
     ]
    }
   ],
   "source": [
    "z.backward()\n",
    "print(x.grad)\n",
    "print(x/2)"
   ]
  },
  {
   "cell_type": "markdown",
   "metadata": {},
   "source": [
    "These gradient calculations are particularly useful for neural networks. For training we need the gradients of the cost with respect to the weights. With PyTorch, we run data forward through the network to calculate the loss, then, go backwards to calculate the gradients with respect to the loss. Once we have the gradients we can make a gradient descent step. "
   ]
  },
  {
   "cell_type": "markdown",
   "metadata": {},
   "source": [
    "## Loss and Autograd together\n",
    "\n",
    "When we create a network with PyTorch, all of the parameters are initialized with `requires_grad = True`. This means that when we calculate the loss and call `loss.backward()`, the gradients for the parameters are calculated. These gradients are used to update the weights with gradient descent. Below you can see an example of calculating the gradients using a backwards pass."
   ]
  },
  {
   "cell_type": "code",
   "execution_count": 11,
   "metadata": {},
   "outputs": [],
   "source": [
    "# Build a feed-forward network\n",
    "model = nn.Sequential(nn.Linear(784, 128),\n",
    "                      nn.ReLU(),\n",
    "                      nn.Linear(128, 64),\n",
    "                      nn.ReLU(),\n",
    "                      nn.Linear(64, 10),\n",
    "                      nn.LogSoftmax(dim=1))\n",
    "\n",
    "criterion = nn.NLLLoss()\n",
    "dataiter = iter(trainloader)\n",
    "images, labels = next(dataiter)\n",
    "images = images.view(images.shape[0], -1)\n",
    "\n",
    "logits = model(images)\n",
    "loss = criterion(logits, labels)"
   ]
  },
  {
   "cell_type": "code",
   "execution_count": 12,
   "metadata": {},
   "outputs": [
    {
     "name": "stdout",
     "output_type": "stream",
     "text": [
      "Before backward pass: \n",
      " None\n",
      "After backward pass: \n",
      " tensor([[-0.0002, -0.0002, -0.0002,  ..., -0.0002, -0.0002, -0.0002],\n",
      "        [ 0.0003,  0.0003,  0.0003,  ...,  0.0003,  0.0003,  0.0003],\n",
      "        [ 0.0004,  0.0004,  0.0004,  ...,  0.0004,  0.0004,  0.0004],\n",
      "        ...,\n",
      "        [ 0.0005,  0.0005,  0.0005,  ...,  0.0005,  0.0005,  0.0005],\n",
      "        [-0.0007, -0.0007, -0.0007,  ..., -0.0007, -0.0007, -0.0007],\n",
      "        [ 0.0010,  0.0010,  0.0010,  ...,  0.0010,  0.0010,  0.0010]])\n"
     ]
    }
   ],
   "source": [
    "print('Before backward pass: \\n', model[0].weight.grad)\n",
    "\n",
    "loss.backward()\n",
    "\n",
    "print('After backward pass: \\n', model[0].weight.grad)"
   ]
  },
  {
   "cell_type": "markdown",
   "metadata": {},
   "source": [
    "## Training the network!\n",
    "\n",
    "There's one last piece we need to start training, an optimizer that we'll use to update the weights with the gradients. We get these from PyTorch's [`optim` package](https://pytorch.org/docs/stable/optim.html). For example we can use stochastic gradient descent with `optim.SGD`. You can see how to define an optimizer below."
   ]
  },
  {
   "cell_type": "code",
   "execution_count": 13,
   "metadata": {},
   "outputs": [],
   "source": [
    "from torch import optim\n",
    "\n",
    "# Optimizers require the parameters to optimize and a learning rate\n",
    "optimizer = optim.SGD(model.parameters(), lr=0.01)"
   ]
  },
  {
   "cell_type": "markdown",
   "metadata": {},
   "source": [
    "Now we know how to use all the individual parts so it's time to see how they work together. Let's consider just one learning step before looping through all the data. The general process with PyTorch:\n",
    "\n",
    "* Make a forward pass through the network \n",
    "* Use the network output to calculate the loss\n",
    "* Perform a backward pass through the network with `loss.backward()` to calculate the gradients\n",
    "* Take a step with the optimizer to update the weights\n",
    "\n",
    "Below I'll go through one training step and print out the weights and gradients so you can see how it changes. Note that I have a line of code `optimizer.zero_grad()`. When you do multiple backwards passes with the same parameters, the gradients are accumulated. This means that you need to zero the gradients on each training pass or you'll retain gradients from previous training batches."
   ]
  },
  {
   "cell_type": "code",
   "execution_count": 14,
   "metadata": {},
   "outputs": [
    {
     "name": "stdout",
     "output_type": "stream",
     "text": [
      "Initial weights -  Parameter containing:\n",
      "tensor([[-0.0270,  0.0005,  0.0215,  ..., -0.0233, -0.0177, -0.0047],\n",
      "        [ 0.0294, -0.0194,  0.0043,  ..., -0.0179,  0.0301, -0.0233],\n",
      "        [-0.0193, -0.0249, -0.0002,  ...,  0.0106, -0.0321,  0.0201],\n",
      "        ...,\n",
      "        [ 0.0190, -0.0331,  0.0101,  ...,  0.0215,  0.0165,  0.0354],\n",
      "        [ 0.0222, -0.0344,  0.0037,  ...,  0.0309, -0.0069,  0.0192],\n",
      "        [ 0.0185, -0.0079,  0.0064,  ...,  0.0250,  0.0241,  0.0309]],\n",
      "       requires_grad=True)\n",
      "Gradient - tensor([[-7.9459e-05, -7.9459e-05, -7.9459e-05,  ..., -7.9459e-05,\n",
      "         -7.9459e-05, -7.9459e-05],\n",
      "        [ 1.3643e-03,  1.3643e-03,  1.3643e-03,  ...,  1.3643e-03,\n",
      "          1.3643e-03,  1.3643e-03],\n",
      "        [ 7.8204e-06,  7.8204e-06,  7.8204e-06,  ...,  7.8205e-06,\n",
      "          7.8205e-06,  7.8205e-06],\n",
      "        ...,\n",
      "        [ 2.6312e-04,  2.6312e-04,  2.6312e-04,  ...,  2.6312e-04,\n",
      "          2.6312e-04,  2.6312e-04],\n",
      "        [-3.3401e-03, -3.3401e-03, -3.3401e-03,  ..., -3.3401e-03,\n",
      "         -3.3401e-03, -3.3401e-03],\n",
      "        [-1.7289e-03, -1.7289e-03, -1.7289e-03,  ..., -1.7289e-03,\n",
      "         -1.7289e-03, -1.7289e-03]])\n"
     ]
    }
   ],
   "source": [
    "print('Initial weights - ', model[0].weight)\n",
    "\n",
    "dataiter = iter(trainloader)\n",
    "images, labels = next(dataiter)\n",
    "images.resize_(64, 784)\n",
    "\n",
    "# Clear the gradients, do this because gradients are accumulated\n",
    "optimizer.zero_grad()\n",
    "\n",
    "# Forward pass, then backward pass, then update weights\n",
    "output = model(images)\n",
    "loss = criterion(output, labels)\n",
    "loss.backward()\n",
    "print('Gradient -', model[0].weight.grad)"
   ]
  },
  {
   "cell_type": "code",
   "execution_count": 15,
   "metadata": {},
   "outputs": [
    {
     "name": "stdout",
     "output_type": "stream",
     "text": [
      "Updated weights -  Parameter containing:\n",
      "tensor([[-0.0270,  0.0005,  0.0215,  ..., -0.0233, -0.0177, -0.0047],\n",
      "        [ 0.0294, -0.0194,  0.0043,  ..., -0.0179,  0.0301, -0.0233],\n",
      "        [-0.0193, -0.0249, -0.0002,  ...,  0.0106, -0.0321,  0.0201],\n",
      "        ...,\n",
      "        [ 0.0190, -0.0332,  0.0101,  ...,  0.0215,  0.0165,  0.0354],\n",
      "        [ 0.0223, -0.0344,  0.0037,  ...,  0.0310, -0.0069,  0.0193],\n",
      "        [ 0.0185, -0.0079,  0.0064,  ...,  0.0250,  0.0241,  0.0310]],\n",
      "       requires_grad=True)\n"
     ]
    }
   ],
   "source": [
    "# Take an update step and view the new weights\n",
    "optimizer.step()\n",
    "print('Updated weights - ', model[0].weight)"
   ]
  },
  {
   "cell_type": "markdown",
   "metadata": {},
   "source": [
    "### Training for real\n",
    "\n",
    "Now we'll put this algorithm into a loop so we can go through all the images. Some nomenclature, one pass through the entire dataset is called an *epoch*. So here we're going to loop through `trainloader` to get our training batches. For each batch, we'll doing a training pass where we calculate the loss, do a backwards pass, and update the weights.\n",
    "\n",
    ">**Exercise:** Implement the training pass for our network. If you implemented it correctly, you should see the training loss drop with each epoch."
   ]
  },
  {
   "cell_type": "code",
   "execution_count": 17,
   "metadata": {},
   "outputs": [
    {
     "name": "stdout",
     "output_type": "stream",
     "text": [
      "Training loss: 1.860307892502498\n",
      "Training loss: 0.8360883334615846\n",
      "Training loss: 0.5333660529779473\n",
      "Training loss: 0.432563290667178\n",
      "Training loss: 0.384464232954008\n"
     ]
    }
   ],
   "source": [
    "## Your solution here\n",
    "\n",
    "model = nn.Sequential(nn.Linear(784, 128),\n",
    "                      nn.ReLU(),\n",
    "                      nn.Linear(128, 64),\n",
    "                      nn.ReLU(),\n",
    "                      nn.Linear(64, 10),\n",
    "                      nn.LogSoftmax(dim=1))\n",
    "\n",
    "criterion = nn.NLLLoss()\n",
    "optimizer = optim.SGD(model.parameters(), lr=0.003)\n",
    "\n",
    "epochs = 5\n",
    "for e in range(epochs):\n",
    "    running_loss = 0\n",
    "    for images, labels in trainloader:\n",
    "        # Flatten MNIST images into a 784 long vector\n",
    "        images = images.view(images.shape[0], -1)\n",
    "    \n",
    "        # TODO: Training pass\n",
    "        \n",
    "        optimizer.zero_grad()\n",
    "        output = model(images)\n",
    "        loss = criterion(output,labels)\n",
    "        loss.backward()\n",
    "        optimizer.step()\n",
    "        \n",
    "        running_loss += loss.item()\n",
    "    else:\n",
    "        print(f\"Training loss: {running_loss/len(trainloader)}\")"
   ]
  },
  {
   "cell_type": "markdown",
   "metadata": {},
   "source": [
    "With the network trained, we can check out it's predictions."
   ]
  },
  {
   "cell_type": "code",
   "execution_count": 18,
   "metadata": {},
   "outputs": [
    {
     "data": {
      "image/png": "[encoded data removed]",
      "text/plain": [
       "<Figure size 600x900 with 2 Axes>"
      ]
     },
     "metadata": {},
     "output_type": "display_data"
    }
   ],
   "source": [
    "%matplotlib inline\n",
    "import helper\n",
    "\n",
    "dataiter = iter(trainloader)\n",
    "images, labels = next(dataiter)\n",
    "\n",
    "img = images[0].view(1, 784)\n",
    "# Turn off gradients to speed up this part\n",
    "with torch.no_grad():\n",
    "    logps = model(img)\n",
    "\n",
    "# Output of the network are log-probabilities, need to take exponential for probabilities\n",
    "ps = torch.exp(logps)\n",
    "helper.view_classify(img.view(1, 28, 28), ps)"
   ]
  },
  {
   "cell_type": "markdown",
   "metadata": {},
   "source": [
    "Now our network is (almost) brilliant (we train and \"test\" on the same data) . It can accurately predict the digits in our images. Next up you'll write the code for training a neural network on a more complex dataset."
   ]
  }
 ],
 "metadata": {
  "kernelspec": {
   "display_name": "Python 3 (ipykernel)",
   "language": "python",
   "name": "python3"
  },
  "language_info": {
   "codemirror_mode": {
    "name": "ipython",
    "version": 3
   },
   "file_extension": ".py",
   "mimetype": "text/x-python",
   "name": "python",
   "nbconvert_exporter": "python",
   "pygments_lexer": "ipython3",
   "version": "3.9.13"
  }
 },
 "nbformat": 4,
 "nbformat_minor": 2
}
